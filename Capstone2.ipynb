{
 "cells": [
  {
   "cell_type": "markdown",
   "id": "0e24e2e6",
   "metadata": {},
   "source": [
    "# Data Cleansing"
   ]
  },
  {
   "cell_type": "markdown",
   "id": "b37af316",
   "metadata": {},
   "source": [
    "The goal is to be able to randomly pick 5 Mutual Funds from specific catagories and still have a 10% YOY return but a few alterations need to be made to the raw dataset so that all the Mutual Funds will have a base level of quality."
   ]
  },
  {
   "cell_type": "markdown",
   "id": "9de51d4e",
   "metadata": {},
   "source": [
    "Start by importing the libraries that will be needed for the project and importing the raw datset."
   ]
  },
  {
   "cell_type": "code",
   "execution_count": 1,
   "id": "fed3c098",
   "metadata": {},
   "outputs": [],
   "source": [
    "# Import of Python Libraries to be used for the analysis\n",
    "import pandas as pd\n",
    "import numpy as np\n",
    "import matplotlib.pyplot as plt\n",
    "import seaborn as sns"
   ]
  },
  {
   "cell_type": "code",
   "execution_count": 2,
   "id": "47039088",
   "metadata": {},
   "outputs": [
    {
     "name": "stdout",
     "output_type": "stream",
     "text": [
      "(23783, 298)\n"
     ]
    }
   ],
   "source": [
    "# Import Raw CSV File into a DF\n",
    "df_raw = pd.read_csv(\"Mutual Funds.csv\")\n",
    "print(df_raw.shape)"
   ]
  },
  {
   "cell_type": "markdown",
   "id": "883f6f47",
   "metadata": {},
   "source": [
    "Check the column data types to see everything loaded and what fields are needed. "
   ]
  },
  {
   "cell_type": "code",
   "execution_count": 3,
   "id": "3e5c834a",
   "metadata": {},
   "outputs": [
    {
     "name": "stdout",
     "output_type": "stream",
     "text": [
      "fund_symbol             object\n",
      "quote_type              object\n",
      "region                  object\n",
      "fund_short_name         object\n",
      "fund_long_name          object\n",
      "                        ...   \n",
      "peer_social_max        float64\n",
      "governance_score       float64\n",
      "peer_governance_min    float64\n",
      "peer_governance_avg    float64\n",
      "peer_governance_max    float64\n",
      "Length: 298, dtype: object\n"
     ]
    }
   ],
   "source": [
    "print(df_raw.dtypes)"
   ]
  },
  {
   "cell_type": "markdown",
   "id": "f2ee0f0a",
   "metadata": {},
   "source": [
    "Only key metrics such as yearly returns from the past 20 years and the Morningstar rating hypothetically are need to be able to pick random Mutual Funds so the other fields are not needed for this analysis."
   ]
  },
  {
   "cell_type": "code",
   "execution_count": 4,
   "id": "442f98ee",
   "metadata": {},
   "outputs": [
    {
     "name": "stdout",
     "output_type": "stream",
     "text": [
      "(23783, 47)\n"
     ]
    }
   ],
   "source": [
    "# Create DF with only Fields that will likely be used\n",
    "df_clean1= df_raw[['fund_symbol','fund_long_name','fund_category','total_net_assets','year_to_date_return','fund_yield','morningstar_overall_rating','inception_date','investment_type','size_type','fund_price_book_ratio','fund_price_cashflow_ratio','fund_price_earning_ratio','fund_price_sales_ratio','fund_return_10years','years_up','years_down','fund_return_2020','fund_return_2019','fund_return_2018','fund_return_2017','fund_return_2016','fund_return_2015','fund_return_2014','fund_return_2013','fund_return_2012','fund_return_2011','fund_return_2010','fund_return_2009','fund_return_2008','fund_return_2007','fund_return_2006','fund_return_2005','fund_return_2004','fund_return_2003','fund_return_2002','fund_return_2001','fund_return_2000','quarters_up','quarters_down','fund_alpha_10years','fund_beta_10years','fund_mean_annual_return_10years','fund_r_squared_10years','fund_stdev_10years','fund_sharpe_ratio_10years','fund_treynor_ratio_10years']]\n",
    "df_clean1.columns = df_clean1.columns.str.replace(' ', '')\n",
    "print(df_clean1.shape)"
   ]
  },
  {
   "cell_type": "markdown",
   "id": "c27a603b",
   "metadata": {},
   "source": [
    "A large portion of the raw datset includes null values since the funds are young and without data from at least the year 2000 making them unreliable for a random pick."
   ]
  },
  {
   "cell_type": "code",
   "execution_count": 5,
   "id": "50437d83",
   "metadata": {},
   "outputs": [
    {
     "name": "stdout",
     "output_type": "stream",
     "text": [
      "fund_symbol                            0\n",
      "fund_long_name                         5\n",
      "fund_category                        663\n",
      "total_net_assets                      34\n",
      "year_to_date_return                  401\n",
      "fund_yield                          5097\n",
      "morningstar_overall_rating          1807\n",
      "inception_date                         0\n",
      "investment_type                     1109\n",
      "size_type                           1109\n",
      "fund_price_book_ratio               6031\n",
      "fund_price_cashflow_ratio           6325\n",
      "fund_price_earning_ratio            6811\n",
      "fund_price_sales_ratio              5365\n",
      "fund_return_10years                11346\n",
      "years_up                            1318\n",
      "years_down                          1318\n",
      "fund_return_2020                    1316\n",
      "fund_return_2019                    2125\n",
      "fund_return_2018                    3282\n",
      "fund_return_2017                    4706\n",
      "fund_return_2016                    5883\n",
      "fund_return_2015                    7409\n",
      "fund_return_2014                    8551\n",
      "fund_return_2013                    9612\n",
      "fund_return_2012                   10807\n",
      "fund_return_2011                   11763\n",
      "fund_return_2010                   12676\n",
      "fund_return_2009                   13401\n",
      "fund_return_2008                   14332\n",
      "fund_return_2007                   15218\n",
      "fund_return_2006                   16033\n",
      "fund_return_2005                   16767\n",
      "fund_return_2004                   17354\n",
      "fund_return_2003                   17962\n",
      "fund_return_2002                   18673\n",
      "fund_return_2001                   19278\n",
      "fund_return_2000                   19827\n",
      "quarters_up                          379\n",
      "quarters_down                        379\n",
      "fund_alpha_10years                  7114\n",
      "fund_beta_10years                   7080\n",
      "fund_mean_annual_return_10years     7079\n",
      "fund_r_squared_10years              7079\n",
      "fund_stdev_10years                  7072\n",
      "fund_sharpe_ratio_10years           7089\n",
      "fund_treynor_ratio_10years          7073\n",
      "dtype: int64\n"
     ]
    }
   ],
   "source": [
    "# Important to show how many funds are young and not reliable\n",
    "print(df_clean1.isnull().sum())"
   ]
  },
  {
   "cell_type": "markdown",
   "id": "7782c096",
   "metadata": {},
   "source": [
    "To pick a quality Mutual Funds part of the critera should be that the fund has withstood multiple market cycles so any funds without returns from at least the year 2000 should be removed."
   ]
  },
  {
   "cell_type": "code",
   "execution_count": 6,
   "id": "da7f505b",
   "metadata": {},
   "outputs": [
    {
     "name": "stdout",
     "output_type": "stream",
     "text": [
      "fund_symbol                        0\n",
      "fund_long_name                     0\n",
      "fund_category                      0\n",
      "total_net_assets                   0\n",
      "year_to_date_return                0\n",
      "fund_yield                         0\n",
      "morningstar_overall_rating         0\n",
      "inception_date                     0\n",
      "investment_type                    0\n",
      "size_type                          0\n",
      "fund_price_book_ratio              0\n",
      "fund_price_cashflow_ratio          0\n",
      "fund_price_earning_ratio           0\n",
      "fund_price_sales_ratio             0\n",
      "fund_return_10years                0\n",
      "years_up                           0\n",
      "years_down                         0\n",
      "fund_return_2020                   0\n",
      "fund_return_2019                   0\n",
      "fund_return_2018                   0\n",
      "fund_return_2017                   0\n",
      "fund_return_2016                   0\n",
      "fund_return_2015                   0\n",
      "fund_return_2014                   0\n",
      "fund_return_2013                   0\n",
      "fund_return_2012                   0\n",
      "fund_return_2011                   0\n",
      "fund_return_2010                   0\n",
      "fund_return_2009                   0\n",
      "fund_return_2008                   0\n",
      "fund_return_2007                   0\n",
      "fund_return_2006                   0\n",
      "fund_return_2005                   0\n",
      "fund_return_2004                   0\n",
      "fund_return_2003                   0\n",
      "fund_return_2002                   0\n",
      "fund_return_2001                   0\n",
      "fund_return_2000                   0\n",
      "quarters_up                        0\n",
      "quarters_down                      0\n",
      "fund_alpha_10years                 0\n",
      "fund_beta_10years                  0\n",
      "fund_mean_annual_return_10years    0\n",
      "fund_r_squared_10years             0\n",
      "fund_stdev_10years                 0\n",
      "fund_sharpe_ratio_10years          0\n",
      "fund_treynor_ratio_10years         0\n",
      "dtype: int64\n"
     ]
    }
   ],
   "source": [
    "# Removing Rows that have missing data primarly the largest missing data is year 2000 returns as the MF is to young \n",
    "df_clean2 = df_clean1.dropna()\n",
    "# Important to show how many funds are young and not reliable\n",
    "print(df_clean2.isnull().sum())"
   ]
  },
  {
   "cell_type": "code",
   "execution_count": 7,
   "id": "ce3009ea",
   "metadata": {},
   "outputs": [
    {
     "name": "stdout",
     "output_type": "stream",
     "text": [
      "(1702, 47)\n"
     ]
    }
   ],
   "source": [
    "print(df_clean2.shape)"
   ]
  },
  {
   "cell_type": "markdown",
   "id": "6e08e65b",
   "metadata": {},
   "source": [
    "This provides a Dataset with just over 17 thousand Mutual Funds with the final criteria being to remove all Mutual Funds with a Morningstar rating of 1 or 2 out of 5.  This removes junk quality Mutual Funds that exist. "
   ]
  },
  {
   "cell_type": "code",
   "execution_count": 8,
   "id": "ca36d15b",
   "metadata": {},
   "outputs": [],
   "source": [
    "df_clean3 = df_clean2[df_clean2['morningstar_overall_rating'] > 2 ]"
   ]
  },
  {
   "cell_type": "code",
   "execution_count": 9,
   "id": "786ab80c",
   "metadata": {},
   "outputs": [
    {
     "name": "stdout",
     "output_type": "stream",
     "text": [
      "(1272, 47)\n"
     ]
    }
   ],
   "source": [
    "print(df_clean3.shape)"
   ]
  },
  {
   "cell_type": "markdown",
   "id": "5fb73ef2",
   "metadata": {},
   "source": [
    "After cleaning the data we are left with 1272 Mutual Funds that meet a baseline of which 5 will be picked randomly solely based on their asset class. "
   ]
  },
  {
   "cell_type": "code",
   "execution_count": 10,
   "id": "675ec474",
   "metadata": {},
   "outputs": [],
   "source": [
    "# renaming the DataFrame for easy understanding during the analysis\n",
    "df_cleaned = df_clean3 "
   ]
  },
  {
   "cell_type": "markdown",
   "id": "9e2cdcc2",
   "metadata": {},
   "source": [
    "# Insights"
   ]
  },
  {
   "cell_type": "markdown",
   "id": "e0c75b05",
   "metadata": {},
   "source": [
    "5 DataFrames will be created that each include one specific Mutual Fund Type in the fund category column.  A blend is chosen which is a combination of both value and growth funds to increase the simplicity as the goal is to randomly pick funds without any knowledge of the existing markets.\n",
    "\n",
    "Then a random Mutual Fund will be chosen out of each DataFrame and weighted to the following specific percentages: Large Cap Blend 25%, Mid Cap Blend 20%, Small Cap Blend 20%, Emerging Markets 25%, and High yield bonds at 10%.  \n",
    "\n",
    "The hypothesis is that regardless of which 5 Mutual funds are choses the average return should be approximately 10% which should be enough to offset 2022 inflation rates.\n",
    "\n",
    "Large Cap "
   ]
  },
  {
   "cell_type": "code",
   "execution_count": 11,
   "id": "f8c3a55e",
   "metadata": {},
   "outputs": [
    {
     "name": "stdout",
     "output_type": "stream",
     "text": [
      "(184, 47)\n"
     ]
    }
   ],
   "source": [
    "large_cap = df_cleaned[df_cleaned['fund_category'] == 'Large Blend']\n",
    "print(large_cap.shape)"
   ]
  },
  {
   "cell_type": "markdown",
   "id": "ba67da47",
   "metadata": {},
   "source": [
    "Mid Cap Blend "
   ]
  },
  {
   "cell_type": "code",
   "execution_count": 12,
   "id": "940b3a64",
   "metadata": {},
   "outputs": [
    {
     "name": "stdout",
     "output_type": "stream",
     "text": [
      "(34, 47)\n"
     ]
    }
   ],
   "source": [
    "mid_cap = df_cleaned[df_cleaned['fund_category'] == 'Mid-Cap Blend']\n",
    "print(mid_cap.shape)"
   ]
  },
  {
   "cell_type": "markdown",
   "id": "982ae59a",
   "metadata": {},
   "source": [
    "Small Cap Blend "
   ]
  },
  {
   "cell_type": "code",
   "execution_count": 13,
   "id": "a3f843b4",
   "metadata": {},
   "outputs": [
    {
     "name": "stdout",
     "output_type": "stream",
     "text": [
      "(60, 47)\n"
     ]
    }
   ],
   "source": [
    "small_cap = df_cleaned[df_cleaned['fund_category'] == 'Small Blend']\n",
    "print(small_cap.shape)"
   ]
  },
  {
   "cell_type": "markdown",
   "id": "199a88ad",
   "metadata": {},
   "source": [
    "Emerging Markets "
   ]
  },
  {
   "cell_type": "code",
   "execution_count": 14,
   "id": "85d13967",
   "metadata": {},
   "outputs": [
    {
     "name": "stdout",
     "output_type": "stream",
     "text": [
      "(47, 47)\n"
     ]
    }
   ],
   "source": [
    "emerging_markets = df_cleaned[df_cleaned['fund_category'] == 'Diversified Emerging Mkts']\n",
    "print(emerging_markets.shape)"
   ]
  },
  {
   "cell_type": "markdown",
   "id": "1585291d",
   "metadata": {},
   "source": [
    "High yield bonds"
   ]
  },
  {
   "cell_type": "code",
   "execution_count": 15,
   "id": "8acb0e44",
   "metadata": {},
   "outputs": [
    {
     "name": "stdout",
     "output_type": "stream",
     "text": [
      "(21, 47)\n"
     ]
    }
   ],
   "source": [
    "bonds = df_cleaned[df_cleaned['fund_category'] == 'High Yield Bond']\n",
    "print(bonds.shape)"
   ]
  },
  {
   "cell_type": "markdown",
   "id": "6f3128c2",
   "metadata": {},
   "source": [
    "Randomly pick a Mutual Fund of each of the 5 catagories."
   ]
  },
  {
   "cell_type": "code",
   "execution_count": 16,
   "id": "eed8bee4",
   "metadata": {},
   "outputs": [],
   "source": [
    "large_cap = large_cap.sample()\n",
    "mid_cap = mid_cap.sample()\n",
    "small_cap = small_cap.sample()\n",
    "random_emerging_markets = emerging_markets.sample()\n",
    "random_bonds = bonds.sample()"
   ]
  },
  {
   "cell_type": "markdown",
   "id": "d85385c6",
   "metadata": {},
   "source": [
    "Create a new DataFrame with the 5 random mutual fund results"
   ]
  },
  {
   "cell_type": "code",
   "execution_count": 17,
   "id": "5f53613e",
   "metadata": {},
   "outputs": [
    {
     "name": "stdout",
     "output_type": "stream",
     "text": [
      "(5, 47)\n"
     ]
    }
   ],
   "source": [
    "random_dataset = pd.concat([large_cap,mid_cap,small_cap,random_emerging_markets,random_bonds])\n",
    "random_dataset['fund_long_name'].str.strip()\n",
    "print(random_dataset.shape)\n"
   ]
  },
  {
   "cell_type": "code",
   "execution_count": 18,
   "id": "afc0ebd7",
   "metadata": {},
   "outputs": [
    {
     "name": "stdout",
     "output_type": "stream",
     "text": [
      "                    Davis Opportunity Fund Class Y\n",
      "CIBC Atlas Disciplined Equity Fund Institutiona...\n",
      "          Eaton Vance Large-Cap Value Fund Class A\n",
      "            AB Discovery Growth Fund Advisor Class\n",
      "    Wells Fargo High Yield Bond Fund - Class Admin\n"
     ]
    }
   ],
   "source": [
    "def random_MF():\n",
    "    print(random_dataset.fund_long_name.to_string(index=False))\n",
    "random_MF()"
   ]
  },
  {
   "cell_type": "markdown",
   "id": "8b990220",
   "metadata": {},
   "source": [
    "Calculate the sum of each Mutual Fund from 2000 to 2020."
   ]
  },
  {
   "cell_type": "code",
   "execution_count": 19,
   "id": "d6374c8b",
   "metadata": {},
   "outputs": [
    {
     "name": "stdout",
     "output_type": "stream",
     "text": [
      "[0.10241714]\n",
      "[0.10481667]\n",
      "[0.12059095]\n",
      "[0.10833238]\n",
      "[0.07146571]\n"
     ]
    }
   ],
   "source": [
    "large_cap_mean = large_cap[['fund_return_2020','fund_return_2019','fund_return_2018','fund_return_2017','fund_return_2016','fund_return_2015','fund_return_2014','fund_return_2013','fund_return_2012','fund_return_2011','fund_return_2010','fund_return_2009','fund_return_2008','fund_return_2007','fund_return_2006','fund_return_2005','fund_return_2004','fund_return_2003','fund_return_2002','fund_return_2001','fund_return_2000']].mean(axis = 1).values\n",
    "print(large_cap_mean)\n",
    "mid_cap_mean = mid_cap[['fund_return_2020','fund_return_2019','fund_return_2018','fund_return_2017','fund_return_2016','fund_return_2015','fund_return_2014','fund_return_2013','fund_return_2012','fund_return_2011','fund_return_2010','fund_return_2009','fund_return_2008','fund_return_2007','fund_return_2006','fund_return_2005','fund_return_2004','fund_return_2003','fund_return_2002','fund_return_2001','fund_return_2000']].mean(axis = 1).values\n",
    "print(mid_cap_mean)\n",
    "small_cap_mean = small_cap[['fund_return_2020','fund_return_2019','fund_return_2018','fund_return_2017','fund_return_2016','fund_return_2015','fund_return_2014','fund_return_2013','fund_return_2012','fund_return_2011','fund_return_2010','fund_return_2009','fund_return_2008','fund_return_2007','fund_return_2006','fund_return_2005','fund_return_2004','fund_return_2003','fund_return_2002','fund_return_2001','fund_return_2000']].mean(axis = 1).values\n",
    "print(small_cap_mean)\n",
    "random_emerging_markets_mean = random_emerging_markets[['fund_return_2020','fund_return_2019','fund_return_2018','fund_return_2017','fund_return_2016','fund_return_2015','fund_return_2014','fund_return_2013','fund_return_2012','fund_return_2011','fund_return_2010','fund_return_2009','fund_return_2008','fund_return_2007','fund_return_2006','fund_return_2005','fund_return_2004','fund_return_2003','fund_return_2002','fund_return_2001','fund_return_2000']].mean(axis = 1).values\n",
    "print(random_emerging_markets_mean)\n",
    "random_bonds_mean = random_bonds[['fund_return_2020','fund_return_2019','fund_return_2018','fund_return_2017','fund_return_2016','fund_return_2015','fund_return_2014','fund_return_2013','fund_return_2012','fund_return_2011','fund_return_2010','fund_return_2009','fund_return_2008','fund_return_2007','fund_return_2006','fund_return_2005','fund_return_2004','fund_return_2003','fund_return_2002','fund_return_2001','fund_return_2000']].mean(axis = 1).values\n",
    "print(random_bonds_mean)"
   ]
  },
  {
   "cell_type": "markdown",
   "id": "678dd500",
   "metadata": {},
   "source": [
    "Plot of the random average returns for each of the 5 catagories"
   ]
  },
  {
   "cell_type": "code",
   "execution_count": 20,
   "id": "8ec5f62d",
   "metadata": {
    "scrolled": true
   },
   "outputs": [
    {
     "name": "stdout",
     "output_type": "stream",
     "text": [
      "[0.10241714 0.10481667 0.12059095 0.10833238 0.07146571]\n"
     ]
    },
    {
     "data": {
      "image/png": "[encoded data removed]",
      "text/plain": [
       "<Figure size 432x288 with 1 Axes>"
      ]
     },
     "metadata": {
      "needs_background": "light"
     },
     "output_type": "display_data"
    }
   ],
   "source": [
    "combined = np.hstack((large_cap_mean, mid_cap_mean, small_cap_mean, random_emerging_markets_mean, random_bonds_mean))\n",
    "print(combined)\n",
    "plt.plot(combined, marker = \"s\", linestyle = \"none\")\n",
    "plt.xticks([0,1,2,3,4],[\"Large Cap\",\"Medium Cap\",\"Small Cap\",\"Emerging Markets\",\"Bonds\"])\n",
    "plt.xlabel('Mutual Fund Type')\n",
    "plt.ylabel('Random Average % Return')\n",
    "plt.title('The Random Average Yearly Return of Each Mutual Fund Type')\n",
    "plt.show()"
   ]
  },
  {
   "cell_type": "markdown",
   "id": "04603a04",
   "metadata": {},
   "source": [
    "Calculating the weighted average to complete the portfolio yearly percentage return"
   ]
  },
  {
   "cell_type": "code",
   "execution_count": 21,
   "id": "e0ff2ae0",
   "metadata": {},
   "outputs": [
    {
     "name": "stdout",
     "output_type": "stream",
     "text": [
      "[10.66]\n"
     ]
    }
   ],
   "source": [
    "#  weighted avarage\n",
    "total_portfolio_as_percentage = (((large_cap_mean * 0.25) + (mid_cap_mean * 0.25) + (small_cap_mean * 0.20) + (random_emerging_markets_mean * 0.25) + (random_bonds_mean * 0.05)))\n",
    "print((np.round(total_portfolio_as_percentage, 4))*100)"
   ]
  },
  {
   "cell_type": "markdown",
   "id": "0c53c0dd",
   "metadata": {},
   "source": [
    "Conclusion:\n",
    "\n",
    "The randomly weighted Mutual Fund portfolio generated 5 mutual funds with an average annual return of 10.66%.  The goal was to return at least 10% to be able to offset current inflation rates.  This has been achieved."
   ]
  },
  {
   "cell_type": "code",
   "execution_count": 24,
   "id": "40491402",
   "metadata": {},
   "outputs": [
    {
     "name": "stdout",
     "output_type": "stream",
     "text": [
      "The 5 Mutual Funds that the system has randomly chosen to offset inflation are:\n"
     ]
    }
   ],
   "source": [
    "print(\"The 5 Mutual Funds that the system has randomly chosen to offset inflation are:\")\n"
   ]
  },
  {
   "cell_type": "code",
   "execution_count": 26,
   "id": "c9c9555e",
   "metadata": {},
   "outputs": [
    {
     "name": "stdout",
     "output_type": "stream",
     "text": [
      "                    Davis Opportunity Fund Class Y\n",
      "CIBC Atlas Disciplined Equity Fund Institutiona...\n",
      "          Eaton Vance Large-Cap Value Fund Class A\n",
      "            AB Discovery Growth Fund Advisor Class\n",
      "    Wells Fargo High Yield Bond Fund - Class Admin\n"
     ]
    }
   ],
   "source": [
    "random_MF()"
   ]
  },
  {
   "cell_type": "code",
   "execution_count": null,
   "id": "f884c728",
   "metadata": {},
   "outputs": [],
   "source": []
  }
 ],
 "metadata": {
  "kernelspec": {
   "display_name": "Python 3 (ipykernel)",
   "language": "python",
   "name": "python3"
  },
  "language_info": {
   "codemirror_mode": {
    "name": "ipython",
    "version": 3
   },
   "file_extension": ".py",
   "mimetype": "text/x-python",
   "name": "python",
   "nbconvert_exporter": "python",
   "pygments_lexer": "ipython3",
   "version": "3.9.7"
  }
 },
 "nbformat": 4,
 "nbformat_minor": 5
}
